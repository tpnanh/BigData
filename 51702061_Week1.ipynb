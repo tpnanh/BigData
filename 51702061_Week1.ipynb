{
  "nbformat": 4,
  "nbformat_minor": 0,
  "metadata": {
    "colab": {
      "name": "51702061_Week1.ipynb",
      "provenance": []
    },
    "kernelspec": {
      "name": "python3",
      "display_name": "Python 3"
    }
  },
  "cells": [
    {
      "cell_type": "code",
      "metadata": {
        "colab": {
          "base_uri": "https://localhost:8080/"
        },
        "id": "_GAb7vyqYtiu",
        "outputId": "85e04675-763a-427d-ab0f-911b83498d53"
      },
      "source": [
        "!pip install pyspark"
      ],
      "execution_count": 33,
      "outputs": [
        {
          "output_type": "stream",
          "text": [
            "Requirement already satisfied: pyspark in /usr/local/lib/python3.6/dist-packages (3.0.1)\n",
            "Requirement already satisfied: py4j==0.10.9 in /usr/local/lib/python3.6/dist-packages (from pyspark) (0.10.9)\n"
          ],
          "name": "stdout"
        }
      ]
    },
    {
      "cell_type": "code",
      "metadata": {
        "id": "ztRmx4U6bDfL"
      },
      "source": [
        "from pyspark import SparkConf, SparkContext\r\n",
        "import collections\r\n",
        "import pyspark"
      ],
      "execution_count": 34,
      "outputs": []
    },
    {
      "cell_type": "code",
      "metadata": {
        "id": "c8HGhvwHcVpw"
      },
      "source": [
        "conf = SparkConf().setMaster(\"local\").setAppName(\"Word frequence\")\r\n",
        "sc = SparkContext.getOrCreate(conf=conf)"
      ],
      "execution_count": 35,
      "outputs": []
    },
    {
      "cell_type": "code",
      "metadata": {
        "id": "FoWVfrrEK9u2"
      },
      "source": [
        "def findMaxFrequence(textPath, k):\r\n",
        "  text = sc.textFile(textPath)\r\n",
        "  words = text.collect()[0].split()\r\n",
        "  rdd = sc.parallelize(words)\r\n",
        "  frequence = rdd.map(lambda word: (word,1))\r\n",
        "\r\n",
        "  red = frequence.reduceByKey(lambda x, y: x+y)\r\n",
        "  red = red.sortBy(lambda x: x[1], False)\r\n",
        "  for i in range (0,k):\r\n",
        "      print(red.collect()[i])"
      ],
      "execution_count": 36,
      "outputs": []
    },
    {
      "cell_type": "code",
      "metadata": {
        "colab": {
          "base_uri": "https://localhost:8080/"
        },
        "id": "VnnfLZ_bGbN4",
        "outputId": "60d542ee-74c8-41b0-8b92-266ce24490bd"
      },
      "source": [
        "path = \"/content/sample_data/text.txt\"\r\n",
        "n = 2\r\n",
        "findMaxFrequence(path, n)"
      ],
      "execution_count": 37,
      "outputs": [
        {
          "output_type": "stream",
          "text": [
            "('to', 2)\n",
            "('I', 1)\n"
          ],
          "name": "stdout"
        }
      ]
    }
  ]
}